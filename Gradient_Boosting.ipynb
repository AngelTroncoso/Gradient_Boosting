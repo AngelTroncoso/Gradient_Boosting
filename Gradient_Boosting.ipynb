{
  "nbformat": 4,
  "nbformat_minor": 0,
  "metadata": {
    "colab": {
      "provenance": [],
      "authorship_tag": "ABX9TyO41f7vVTRXZECzfYsJdGay",
      "include_colab_link": true
    },
    "kernelspec": {
      "name": "python3",
      "display_name": "Python 3"
    },
    "language_info": {
      "name": "python"
    }
  },
  "cells": [
    {
      "cell_type": "markdown",
      "metadata": {
        "id": "view-in-github",
        "colab_type": "text"
      },
      "source": [
        "<a href=\"https://colab.research.google.com/github/AngelTroncoso/Gradient_Boosting/blob/main/Gradient_Boosting.ipynb\" target=\"_parent\"><img src=\"https://colab.research.google.com/assets/colab-badge.svg\" alt=\"Open In Colab\"/></a>"
      ]
    },
    {
      "cell_type": "markdown",
      "source": [
        "#**Gradient Boosting (e.g., XGBoost, LightGBM, CatBoost) 🚀**"
      ],
      "metadata": {
        "id": "Ppf4XsLOXEGP"
      }
    },
    {
      "cell_type": "markdown",
      "source": [
        "## Gradient Boosting (Satisfacción del Cliente) 😊"
      ],
      "metadata": {
        "id": "PPPaToeWXMjH"
      }
    },
    {
      "cell_type": "markdown",
      "source": [
        "##1: Instalar XGBoost (si no está instalado):"
      ],
      "metadata": {
        "id": "SuPJ1gj7XTAu"
      }
    },
    {
      "cell_type": "code",
      "execution_count": 1,
      "metadata": {
        "colab": {
          "base_uri": "https://localhost:8080/"
        },
        "id": "2Di5aYswXBCf",
        "outputId": "6bbec45d-a8bf-4755-b3da-69921586c01b"
      },
      "outputs": [
        {
          "output_type": "stream",
          "name": "stdout",
          "text": [
            "Requirement already satisfied: xgboost in /usr/local/lib/python3.11/dist-packages (2.1.4)\n",
            "Requirement already satisfied: numpy in /usr/local/lib/python3.11/dist-packages (from xgboost) (2.0.2)\n",
            "Requirement already satisfied: nvidia-nccl-cu12 in /usr/local/lib/python3.11/dist-packages (from xgboost) (2.21.5)\n",
            "Requirement already satisfied: scipy in /usr/local/lib/python3.11/dist-packages (from xgboost) (1.15.3)\n"
          ]
        }
      ],
      "source": [
        "!pip install xgboost"
      ]
    },
    {
      "cell_type": "markdown",
      "source": [
        "##2: Cargar los Datos:"
      ],
      "metadata": {
        "id": "RhvKOmyeXXJE"
      }
    },
    {
      "cell_type": "code",
      "source": [
        "import pandas as pd\n",
        "import io\n",
        "\n",
        "csv_data = \"\"\"ID_Cliente,Tiempo_Espera_min,Num_Interacciones,Edad_Cliente,Tipo_Servicio,Satisfaccion_Score\n",
        "1,5,2,30,Soporte Tecnico,85\n",
        "2,10,3,45,Ventas,70\n",
        "3,2,1,25,Informacion,95\n",
        "4,15,4,50,Soporte Tecnico,60\n",
        "5,7,2,35,Ventas,80\n",
        "6,3,1,28,Informacion,90\n",
        "7,20,5,55,Soporte Tecnico,50\n",
        "8,8,3,40,Ventas,75\n",
        "9,4,1,32,Informacion,88\n",
        "10,12,4,48,Soporte Tecnico,65\n",
        "11,6,2,33,Ventas,82\n",
        "12,18,5,60,Soporte Tecnico,55\n",
        "\"\"\"\n",
        "df = pd.read_csv(io.StringIO(csv_data))\n",
        "print(df.head())"
      ],
      "metadata": {
        "colab": {
          "base_uri": "https://localhost:8080/"
        },
        "id": "ZxZUOcQ5Xbev",
        "outputId": "831a903f-2d67-4913-8e8f-899ac1631f69"
      },
      "execution_count": 2,
      "outputs": [
        {
          "output_type": "stream",
          "name": "stdout",
          "text": [
            "   ID_Cliente  Tiempo_Espera_min  Num_Interacciones  Edad_Cliente  \\\n",
            "0           1                  5                  2            30   \n",
            "1           2                 10                  3            45   \n",
            "2           3                  2                  1            25   \n",
            "3           4                 15                  4            50   \n",
            "4           5                  7                  2            35   \n",
            "\n",
            "     Tipo_Servicio  Satisfaccion_Score  \n",
            "0  Soporte Tecnico                  85  \n",
            "1           Ventas                  70  \n",
            "2      Informacion                  95  \n",
            "3  Soporte Tecnico                  60  \n",
            "4           Ventas                  80  \n"
          ]
        }
      ]
    },
    {
      "cell_type": "markdown",
      "source": [
        "##3: Preprocesamiento (One-Hot Encoding):"
      ],
      "metadata": {
        "id": "dF9utGzjXeVy"
      }
    },
    {
      "cell_type": "code",
      "source": [
        "df = pd.get_dummies(df, columns=['Tipo_Servicio'], drop_first=True)\n",
        "print(\"\\nDataFrame después de One-Hot Encoding:\")\n",
        "print(df.head())"
      ],
      "metadata": {
        "colab": {
          "base_uri": "https://localhost:8080/"
        },
        "id": "w59et46BXhho",
        "outputId": "b63de61b-ac06-4792-bb01-078b94306596"
      },
      "execution_count": 3,
      "outputs": [
        {
          "output_type": "stream",
          "name": "stdout",
          "text": [
            "\n",
            "DataFrame después de One-Hot Encoding:\n",
            "   ID_Cliente  Tiempo_Espera_min  Num_Interacciones  Edad_Cliente  \\\n",
            "0           1                  5                  2            30   \n",
            "1           2                 10                  3            45   \n",
            "2           3                  2                  1            25   \n",
            "3           4                 15                  4            50   \n",
            "4           5                  7                  2            35   \n",
            "\n",
            "   Satisfaccion_Score  Tipo_Servicio_Soporte Tecnico  Tipo_Servicio_Ventas  \n",
            "0                  85                           True                 False  \n",
            "1                  70                          False                  True  \n",
            "2                  95                          False                 False  \n",
            "3                  60                           True                 False  \n",
            "4                  80                          False                  True  \n"
          ]
        }
      ]
    },
    {
      "cell_type": "markdown",
      "source": [
        "##4: Definir Características (X) y Variable Objetivo (y):"
      ],
      "metadata": {
        "id": "9Jb7eHlvXjq-"
      }
    },
    {
      "cell_type": "code",
      "source": [
        "X = df.drop(['ID_Cliente', 'Satisfaccion_Score'], axis=1)\n",
        "y = df['Satisfaccion_Score']"
      ],
      "metadata": {
        "id": "_EbM7RKhXn_L"
      },
      "execution_count": 4,
      "outputs": []
    },
    {
      "cell_type": "markdown",
      "source": [
        "##5: Dividir Datos (Entrenamiento y Prueba):"
      ],
      "metadata": {
        "id": "ThH4SQaZXpoV"
      }
    },
    {
      "cell_type": "code",
      "source": [
        "from sklearn.model_selection import train_test_split\n",
        "X_train, X_test, y_train, y_test = train_test_split(X, y, test_size=0.2, random_state=42)"
      ],
      "metadata": {
        "id": "_FA_B2d9XtSK"
      },
      "execution_count": 5,
      "outputs": []
    },
    {
      "cell_type": "markdown",
      "source": [
        "##6: Entrenar Modelo XGBoost:"
      ],
      "metadata": {
        "id": "trWC0SdjXvNP"
      }
    },
    {
      "cell_type": "code",
      "source": [
        "import xgboost as xgb\n",
        "from sklearn.metrics import mean_squared_error, r2_score\n",
        "import numpy as np\n",
        "\n",
        "# Ajusta los parámetros según sea necesario (por ejemplo, n_estimators, learning_rate)\n",
        "xgb_model = xgb.XGBRegressor(objective='reg:squarederror', n_estimators=100, learning_rate=0.1, random_state=42)\n",
        "xgb_model.fit(X_train, y_train)\n",
        "y_pred_xgb = xgb_model.predict(X_test)\n",
        "\n",
        "print(\"\\n--- Resultados XGBoost Regressor ---\")\n",
        "print(f\"MSE: {mean_squared_error(y_test, y_pred_xgb):.2f}\")\n",
        "print(f\"R^2: {r2_score(y_test, y_pred_xgb):.2f}\")\n",
        "\n",
        "# Importancia de las características\n",
        "print(\"\\nImportancia de las características:\")\n",
        "for feature, importance in zip(X.columns, xgb_model.feature_importances_):\n",
        "    print(f\"  {feature}: {importance:.4f}\")"
      ],
      "metadata": {
        "colab": {
          "base_uri": "https://localhost:8080/"
        },
        "id": "hZDKeGN6Xz_Z",
        "outputId": "29ad5563-4470-4ba3-d0c7-1523445cb955"
      },
      "execution_count": 6,
      "outputs": [
        {
          "output_type": "stream",
          "name": "stdout",
          "text": [
            "\n",
            "--- Resultados XGBoost Regressor ---\n",
            "MSE: 23.28\n",
            "R^2: 0.70\n",
            "\n",
            "Importancia de las características:\n",
            "  Tiempo_Espera_min: 1.0000\n",
            "  Num_Interacciones: 0.0000\n",
            "  Edad_Cliente: 0.0000\n",
            "  Tipo_Servicio_Soporte Tecnico: 0.0000\n",
            "  Tipo_Servicio_Ventas: 0.0000\n"
          ]
        }
      ]
    },
    {
      "cell_type": "code",
      "source": [
        "import matplotlib.pyplot as plt\n",
        "\n",
        "# Graficar los resultados\n",
        "plt.figure(figsize=(10, 6))\n",
        "plt.scatter(y_test, y_pred_xgb, alpha=0.7)\n",
        "plt.xlabel(\"Satisfaccion Real\")\n",
        "plt.ylabel(\"Satisfaccion Predicha\")\n",
        "plt.title(\"Comparación de Satisfacción Real vs. Predicha (XGBoost)\")\n",
        "plt.grid(True)\n",
        "plt.show()"
      ],
      "metadata": {
        "colab": {
          "base_uri": "https://localhost:8080/",
          "height": 565
        },
        "id": "aKE1oR5eX23F",
        "outputId": "80267333-391d-42f1-fdb9-4f65aee6b456"
      },
      "execution_count": 9,
      "outputs": [
        {
          "output_type": "display_data",
          "data": {
            "text/plain": [
              "<Figure size 1000x600 with 1 Axes>"
            ],
            "image/png": "[encoded data removed]"
          },
          "metadata": {}
        }
      ]
    }
  ]
}